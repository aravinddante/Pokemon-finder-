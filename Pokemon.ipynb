{
  "nbformat": 4,
  "nbformat_minor": 0,
  "metadata": {
    "kernelspec": {
      "display_name": "Python 3",
      "language": "python",
      "name": "python3"
    },
    "language_info": {
      "codemirror_mode": {
        "name": "ipython",
        "version": 3
      },
      "file_extension": ".py",
      "mimetype": "text/x-python",
      "name": "python",
      "nbconvert_exporter": "python",
      "pygments_lexer": "ipython3",
      "version": "3.7.9"
    },
    "colab": {
      "name": "Pokemon.ipynb",
      "provenance": [],
      "collapsed_sections": []
    }
  },
  "cells": [
    {
      "cell_type": "markdown",
      "metadata": {
        "deletable": false,
        "editable": false,
        "nbgrader": {
          "cell_type": "markdown",
          "checksum": "587eb0d471650fb68cb3c1f5021df2d4",
          "grade": false,
          "grade_id": "cell-1420bd2a80dfa7d5",
          "locked": true,
          "schema_version": 3,
          "solution": false
        },
        "id": "H9aCA9EkhvOY"
      },
      "source": [
        "# Catching Pokemon"
      ]
    },
    {
      "cell_type": "markdown",
      "metadata": {
        "deletable": false,
        "editable": false,
        "nbgrader": {
          "cell_type": "markdown",
          "checksum": "96205d81b93c5615cfbd5cee3aaaa5df",
          "grade": false,
          "grade_id": "cell-c0cb4dde48293818",
          "locked": true,
          "schema_version": 3,
          "solution": false
        },
        "id": "kM5mJkPAhvOZ"
      },
      "source": [
        "![](http://tibetanitech.com/wp-content/uploads/2016/09/Pokemon-GO.jpg)"
      ]
    },
    {
      "cell_type": "markdown",
      "metadata": {
        "deletable": false,
        "editable": false,
        "nbgrader": {
          "cell_type": "markdown",
          "checksum": "6d8a3b20e9634f5c918019159cde8280",
          "grade": false,
          "grade_id": "cell-b9e4c4aa45490941",
          "locked": true,
          "schema_version": 3,
          "solution": false
        },
        "id": "QWfoPvGMhvOb"
      },
      "source": [
        "## 0. Imports"
      ]
    },
    {
      "cell_type": "code",
      "metadata": {
        "deletable": false,
        "nbgrader": {
          "cell_type": "code",
          "checksum": "11dafa1e39d08540e4bfe0939c7f89be",
          "grade": true,
          "grade_id": "cell-4e61b7fa879ef4a1",
          "locked": false,
          "points": 0,
          "schema_version": 3,
          "solution": true
        },
        "id": "ui22JNAphvOb"
      },
      "source": [
        "import numpy as np\n",
        "import matplotlib.pyplot as plt\n",
        "import pandas as pd\n",
        "import seaborn as sns\n",
        "from sklearn.model_selection import train_test_split"
      ],
      "execution_count": null,
      "outputs": []
    },
    {
      "cell_type": "markdown",
      "metadata": {
        "deletable": false,
        "editable": false,
        "nbgrader": {
          "cell_type": "markdown",
          "checksum": "a576cdb7f1a3658a7eb906977c5e40fb",
          "grade": false,
          "grade_id": "cell-50c33a3517aea662",
          "locked": true,
          "schema_version": 3,
          "solution": false
        },
        "id": "B430OvIDhvOb"
      },
      "source": [
        "## 1. Loading and extracting subset"
      ]
    },
    {
      "cell_type": "code",
      "metadata": {
        "deletable": false,
        "nbgrader": {
          "cell_type": "code",
          "checksum": "8589039ecf22cd99c60f34e31a578011",
          "grade": true,
          "grade_id": "cell-53b2a6c0754fca1d",
          "locked": false,
          "points": 0,
          "schema_version": 3,
          "solution": true
        },
        "id": "cIHhsf38hvOc"
      },
      "source": [
        "dataframe =  pd.read_csv('C:/Users/Dante/Downloads/Pokemon/300k.csv', low_memory = False)"
      ],
      "execution_count": null,
      "outputs": []
    },
    {
      "cell_type": "code",
      "metadata": {
        "deletable": false,
        "nbgrader": {
          "cell_type": "code",
          "checksum": "8f0b7bc21ecc33d1bf75ca430241d758",
          "grade": true,
          "grade_id": "cell-318e20fd02ab7f30",
          "locked": false,
          "points": 0,
          "schema_version": 3,
          "solution": true
        },
        "id": "DbGBXE7FhvOc"
      },
      "source": [
        "df_new = dataframe[['latitude','longitude','class']]\n"
      ],
      "execution_count": null,
      "outputs": []
    },
    {
      "cell_type": "code",
      "metadata": {
        "deletable": false,
        "editable": false,
        "nbgrader": {
          "cell_type": "code",
          "checksum": "72b742e685899831f4bde270ad99ec38",
          "grade": false,
          "grade_id": "cell-50ff16afeaf933cf",
          "locked": true,
          "schema_version": 3,
          "solution": false
        },
        "id": "w11ucAs8hvOd"
      },
      "source": [
        "name_dict={1: 'Bulbasaur', 2: 'Ivysaur', 3: 'Venusaur', 4: 'Charmander', 5: 'Charmeleon', 6: 'Charizard', 7: 'Squirtle', 8: \n",
        "          'Wartortle', 9: 'Blastoise', 10: 'Caterpie', 11: 'Metapod', 12: 'Butterfree', 13: 'Weedle', 14: 'Kakuna', \n",
        "          15: 'Beedrill', 16: 'Pidgey', 17: 'Pidgeotto', 18: 'Pidgeot', 19: 'Rattata', 20: 'Raticate', 21: 'Spearow',\n",
        "          22: 'Fearow', 23: 'Ekans', 24: 'Arbok', 25: 'Pikachu', 26: 'Raichu', 27: 'Sandshrew', 28: 'Sandslash', \n",
        "          29: 'Nidoran F', 30: 'Nidorina', 31: 'Nidoqueen',32: 'Nidoran M', 33: 'Nidorino', 34: 'Nidoking', 35: 'Clefairy',\n",
        "          36: 'Clefable', 37: 'Vulpix', 38: 'Ninetales', 39: 'Jigglypuff', 40: 'Wigglytuff', 41: 'Zubat', 42: 'Golbat', \n",
        "          43: 'Oddish', 44: 'Gloom', 45: 'Vileplume', 46: 'Paras', 47: 'Parasect', 48: 'Venonat', 49: 'Venomoth',\n",
        "          50: 'Diglett', 51: 'Dugtrio', 52: 'Meowth', 53: 'Persian', 54: 'Psyduck',55: 'Golduck', 56: 'Mankey', \n",
        "          57: 'Primeape', 58: 'Growlithe', 59: 'Arcanine', 60: 'Poliwag', 61: 'Poliwhirl', 62: 'Poliwrath',\n",
        "          63: 'Abra', 64: 'Kadabra', 65: 'Alakazam', 66: 'Machop', 67: 'Machoke', 68: 'Machamp', 69: 'Bellsprout', \n",
        "          70: 'Weepinbell', 71: 'Victreebel', 72: 'Tentacool', 73: 'Tentacruel', 74: 'Geodude', 75: 'Graveler',\n",
        "          76: 'Golem', 77: 'Ponyta', 78: 'Rapidash', 79: 'Slowpoke', 80: 'Slowbro', 81: 'Magnemite', 82: 'Magneton',\n",
        "          83: \"Farfetch'd\", 84: 'Doduo', 85: 'Dodrio', 86: 'Seel', 87: 'Dewgong', 88: 'Grimer', 89: 'Muk', \n",
        "          90: 'Shellder', 91: 'Cloyster', 92: 'Gastly', 93: 'Haunter', 94: 'Gengar', 95: 'Onix', 96: 'Drowzee',\n",
        "          97: 'Hypno', 98: 'Krabby', 99: 'Kingler', 100: 'Voltorb', 101: 'Electrode', 102: 'Exeggcute', 103: 'Exeggutor', \n",
        "          104: 'Cubone', 105: 'Marowak', 106: 'Hitmonlee', 107: 'Hitmonchan', 108: 'Lickitung', 109: 'Koffing',\n",
        "          110: 'Weezing', 111: 'Rhyhorn', 112: 'Rhydon', 113: 'Chansey', 114: 'Tangela', 115: 'Kangaskhan', 116: 'Horsea', \n",
        "          117: 'Seadra', 118: 'Goldeen', 119: 'Seaking', 120: 'Staryu', 121: 'Starmie', 122: 'Mr. Mime', 123: 'Scyther', \n",
        "          124: 'Jynx', 125: 'Electabuzz', 126: 'Magmar', 127: 'Pinsir', 128: 'Tauros', 129: 'Magikarp', 130: 'Gyarados', \n",
        "          131: 'Lapras', 132: 'Ditto', 133: 'Eevee', 134: 'Vaporeon', 135: 'Jolteon', 136: 'Flareon', 137: 'Porygon', \n",
        "          138: 'Omanyte', 139: 'Omastar', 140: 'Kabuto', 141: 'Kabutops', 142: 'Aerodactyl', 143: 'Snorlax', 144: 'Articuno',\n",
        "          145: 'Zapdos', 146: 'Moltres', 147: 'Dratini', 148: 'Dragonair', 149: 'Dragonite', 150: 'Mewtwo', 'Bulbasaur': 1, 'Ivysaur': 2, 'Venusaur': 3, 'Charmander': 4, 'Charmeleon': 5, 'Charizard': 6, 'Squirtle': 7, 'Wartortle': 8, 'Blastoise': 9, 'Caterpie': 10, 'Metapod': 11, 'Butterfree': 12, 'Weedle': 13, 'Kakuna': 14, 'Beedrill': 15, 'Pidgey': 16, 'Pidgeotto': 17, 'Pidgeot': 18, 'Rattata': 19, 'Raticate': 20, 'Spearow': 21, 'Fearow': 22, 'Ekans': 23, 'Arbok': 24, 'Pikachu': 25, 'Raichu': 26, 'Sandshrew': 27, 'Sandslash': 28, 'Nidoran F': 29, 'Nidorina': 30, 'Nidoqueen': 31, 'Nidoran M': 32, 'Nidorino': 33, 'Nidoking': 34, 'Clefairy': 35, 'Clefable': 36, 'Vulpix': 37, 'Ninetales': 38, 'Jigglypuff': 39, 'Wigglytuff': 40, 'Zubat': 41, 'Golbat': 42, 'Oddish': 43, 'Gloom': 44, 'Vileplume': 45, 'Paras': 46, 'Parasect': 47, 'Venonat': 48, 'Venomoth': 49, 'Diglett': 50, 'Dugtrio': 51, 'Meowth': 52, 'Persian': 53, 'Psyduck': 54, 'Golduck': 55, 'Mankey': 56, 'Primeape': 57, 'Growlithe': 58, 'Arcanine': 59, 'Poliwag': 60, 'Poliwhirl': 61, 'Poliwrath': 62, 'Abra': 63, 'Kadabra': 64, 'Alakazam': 65, 'Machop': 66, 'Machoke': 67, 'Machamp': 68, 'Bellsprout': 69, 'Weepinbell': 70, 'Victreebel': 71, 'Tentacool': 72, 'Tentacruel': 73, 'Geodude': 74, 'Graveler': 75, 'Golem': 76, 'Ponyta': 77, 'Rapidash': 78, 'Slowpoke': 79, 'Slowbro': 80, 'Magnemite': 81, 'Magneton': 82, 'Farfetch\\'d': 83, 'Doduo': 84, 'Dodrio': 85, 'Seel': 86, 'Dewgong': 87, 'Grimer': 88, 'Muk': 89, 'Shellder': 90, 'Cloyster': 91, 'Gastly': 92, 'Haunter': 93, 'Gengar': 94, 'Onix': 95, 'Drowzee': 96, 'Hypno': 97, 'Krabby': 98, 'Kingler': 99, 'Voltorb': 100, 'Electrode': 101, 'Exeggcute': 102, 'Exeggutor': 103, 'Cubone': 104, 'Marowak': 105, 'Hitmonlee': 106, 'Hitmonchan': 107, 'Lickitung': 108, 'Koffing': 109, 'Weezing': 110, 'Rhyhorn': 111, 'Rhydon': 112, 'Chansey': 113, 'Tangela': 114, 'Kangaskhan': 115, 'Horsea': 116, 'Seadra': 117, 'Goldeen': 118, 'Seaking': 119, 'Staryu': 120, 'Starmie': 121, 'Mr. Mime': 122, 'Scyther': 123, 'Jynx': 124, 'Electabuzz': 125, 'Magmar': 126, 'Pinsir': 127, 'Tauros': 128, 'Magikarp': 129, 'Gyarados': 130, 'Lapras': 131, 'Ditto': 132, 'Eevee': 133, 'Vaporeon': 134, 'Jolteon': 135, 'Flareon': 136, 'Porygon': 137, 'Omanyte': 138, 'Omastar': 139, 'Kabuto': 140, 'Kabutops': 141, 'Aerodactyl': 142, 'Snorlax': 143, 'Articuno': 144, 'Zapdos': 145, 'Moltres': 146, 'Dratini': 147, 'Dragonair': 148, 'Dragonite': 149, 'Mewtwo': 150}"
      ],
      "execution_count": null,
      "outputs": []
    },
    {
      "cell_type": "code",
      "metadata": {
        "id": "ph_frrEEhvOf",
        "outputId": "c92cb10f-328a-4696-c346-fb5966b8d329"
      },
      "source": [
        "# example usage (you can index either by name or id)\n",
        "print(name_dict['Gengar'])\n",
        "print(name_dict[94])\n",
        "print(name_dict['Seel'],name_dict['Diglett'],name_dict['Tauros'])"
      ],
      "execution_count": null,
      "outputs": [
        {
          "output_type": "stream",
          "text": [
            "94\n",
            "Gengar\n",
            "86 50 128\n"
          ],
          "name": "stdout"
        }
      ]
    },
    {
      "cell_type": "markdown",
      "metadata": {
        "deletable": false,
        "editable": false,
        "nbgrader": {
          "cell_type": "markdown",
          "checksum": "09025bb17628db2a36bb21a5b3b6f1c5",
          "grade": false,
          "grade_id": "cell-eaa874b93b3b727c",
          "locked": true,
          "schema_version": 3,
          "solution": false
        },
        "id": "QYIwXy0FhvOh"
      },
      "source": [
        "We are only interested in three specific pokemon: Diglett, Seel, and Tauros."
      ]
    },
    {
      "cell_type": "markdown",
      "metadata": {
        "deletable": false,
        "editable": false,
        "nbgrader": {
          "cell_type": "markdown",
          "checksum": "fb13900e729b707cf81097f3e28c10c1",
          "grade": false,
          "grade_id": "cell-7e0898a53c5649b0",
          "locked": true,
          "schema_version": 3,
          "solution": false
        },
        "id": "rtGB2Z5FhvOh"
      },
      "source": [
        "<table style=\"width:100%\">\n",
        "  <tr>\n",
        "    <th> <center>Diglett</center> </th>\n",
        "    <th> <center>Seel</center> </th> \n",
        "    <th> <center>Tauros</center> </th>\n",
        "  </tr>\n",
        "  <tr>\n",
        "    <td><img src=https://assets.pokemon.com/assets/cms2/img/pokedex/full/050_f2.png alt=Digglet></td>\n",
        "    <td><img src=https://pokemon.gamepedia.com/media/pokemon.gamepedia.com/thumb/f/f1/Seel.png/200px-Seel.png?version=2c32fbe0af2d0da707e5dbcb40472fbf></td>\n",
        "    <td><img src=https://vignette2.wikia.nocookie.net/pokemon/images/0/01/128Tauros_AG_anime.png/revision/latest?cb=20140924030616></td>\n",
        "  </tr>\n",
        "</table>\n",
        "\n"
      ]
    },
    {
      "cell_type": "markdown",
      "metadata": {
        "deletable": false,
        "editable": false,
        "nbgrader": {
          "cell_type": "markdown",
          "checksum": "d75af489f3c30c9763ec9adca054e035",
          "grade": false,
          "grade_id": "cell-d091927bf7d7938f",
          "locked": true,
          "schema_version": 3,
          "solution": false
        },
        "id": "1u9MFF5AhvOj"
      },
      "source": [
        "Filter the dataset to contain only these pokemon."
      ]
    },
    {
      "cell_type": "code",
      "metadata": {
        "deletable": false,
        "nbgrader": {
          "cell_type": "code",
          "checksum": "06fdbff28605ca63c20d4e87e2192a12",
          "grade": true,
          "grade_id": "cell-7089f3397cbc1f4a",
          "locked": false,
          "points": 0,
          "schema_version": 3,
          "solution": true
        },
        "id": "705F-sNQhvOj"
      },
      "source": [
        "pokemon_dataset = df_new.loc[df_new['class'].isin([name_dict['Seel'],name_dict['Diglett'],name_dict['Tauros']])]\n"
      ],
      "execution_count": null,
      "outputs": []
    },
    {
      "cell_type": "markdown",
      "metadata": {
        "deletable": false,
        "editable": false,
        "nbgrader": {
          "cell_type": "markdown",
          "checksum": "2641774ea6d909844fb9d2e930763382",
          "grade": false,
          "grade_id": "cell-01b988bb1bfa1f92",
          "locked": true,
          "schema_version": 3,
          "solution": false
        },
        "id": "7XnhyBWChvOj"
      },
      "source": [
        "## 2. Visualization of the dataset"
      ]
    },
    {
      "cell_type": "markdown",
      "metadata": {
        "deletable": false,
        "editable": false,
        "nbgrader": {
          "cell_type": "markdown",
          "checksum": "0c94c9d33c3a6aebede69f250fec7974",
          "grade": false,
          "grade_id": "cell-5c7b8fdcd18575fe",
          "locked": true,
          "schema_version": 3,
          "solution": false
        },
        "id": "0YnUwv3whvOk"
      },
      "source": [
        "The second step consists of visualizing the dataset. This will help you understand the distribution of the features and get an idea of how hard the task will be.\n",
        "\n",
        "Plot a histogram of the number of occurrences of each class."
      ]
    },
    {
      "cell_type": "code",
      "metadata": {
        "deletable": false,
        "nbgrader": {
          "cell_type": "code",
          "checksum": "b9b6048c83c3f3f72c51e4baa47b141b",
          "grade": true,
          "grade_id": "cell-c1a9921488e42992",
          "locked": false,
          "points": 0,
          "schema_version": 3,
          "solution": true
        },
        "id": "GsHHxm48hvOk"
      },
      "source": [
        "class_x = pokemon_dataset['class'].tolist()\n",
        "value = pokemon_dataset['class'].value_counts()\n",
        "plt.hist(class_x, bins = 10)\n",
        "plt.show\n",
        "print(value)"
      ],
      "execution_count": null,
      "outputs": []
    },
    {
      "cell_type": "code",
      "metadata": {
        "deletable": false,
        "nbgrader": {
          "cell_type": "code",
          "checksum": "f6f749d2605a9f0d0ae2dff5d584d414",
          "grade": true,
          "grade_id": "cell-1120bd5aa8abeae1",
          "locked": false,
          "points": 0,
          "schema_version": 3,
          "solution": true
        },
        "id": "3CBRGj1khvOl"
      },
      "source": [
        "lat1 = pokemon_dataset[pokemon_dataset['class']==50]['latitude'].tolist()\n",
        "long1 = pokemon_dataset[pokemon_dataset['class']==50]['longitude'].tolist()\n",
        "lat2 = pokemon_dataset[pokemon_dataset['class']==86]['latitude'].tolist()\n",
        "long2 = pokemon_dataset[pokemon_dataset['class']==86]['longitude'].tolist()\n",
        "lat3 = pokemon_dataset[pokemon_dataset['class']==128]['latitude'].tolist()\n",
        "long3 = pokemon_dataset[pokemon_dataset['class']==128]['longitude'].tolist()\n",
        "\n",
        "plt.figure(figsize = (15,15))\n",
        "\n",
        "dig = plt.scatter(lat1,long1,marker = 'x', c = 'red')\n",
        "seel = plt.scatter(lat2,long2,marker = 'x', c = 'green')\n",
        "tauros = plt.scatter(lat3,long3,marker = 'x', c = 'blue')\n",
        "plt.xlabel('Latitude')\n",
        "plt.ylabel('Longitude')\n",
        "plt.legend((dig,seel,tauros),('Diglett','Seel','Tauros'),title = 'Pokemons')\n",
        "plt.show()\n"
      ],
      "execution_count": null,
      "outputs": []
    },
    {
      "cell_type": "markdown",
      "metadata": {
        "deletable": false,
        "editable": false,
        "nbgrader": {
          "cell_type": "markdown",
          "checksum": "d5510f4a800380ecc156cd9d2f3898e5",
          "grade": false,
          "grade_id": "cell-451e0813fca28b8b",
          "locked": true,
          "schema_version": 3,
          "solution": false
        },
        "id": "uNzatqBghvOn"
      },
      "source": [
        "## 3. Preprocessing"
      ]
    },
    {
      "cell_type": "code",
      "metadata": {
        "deletable": false,
        "nbgrader": {
          "cell_type": "code",
          "checksum": "266ae4cb5f1d572448577f583d04925b",
          "grade": true,
          "grade_id": "cell-c61cb8065babf0c5",
          "locked": false,
          "points": 0,
          "schema_version": 3,
          "solution": true
        },
        "id": "ew-nwWzfhvOs"
      },
      "source": [
        "x = pokemon_dataset[['latitude','longitude']].values\n",
        "y = pokemon_dataset['class'].values\n",
        "\n",
        "def encode_species(species):\n",
        "    if species == 50:\n",
        "        return 0\n",
        "    if species == 86:\n",
        "        return 1\n",
        "    if species == 128:\n",
        "        return 2\n",
        "    else:\n",
        "        raise ValueError('Species \\'{}\\' is not recognized.'.format(species))\n",
        "temp = map(encode_species, pokemon_dataset['class'].values)\n",
        "y = np.array(list(temp))"
      ],
      "execution_count": null,
      "outputs": []
    },
    {
      "cell_type": "code",
      "metadata": {
        "deletable": false,
        "nbgrader": {
          "cell_type": "code",
          "checksum": "a23648ec359fa6060da2f7ecd3591f92",
          "grade": true,
          "grade_id": "cell-918e3bb4d74472bd",
          "locked": false,
          "points": 0,
          "schema_version": 3,
          "solution": true
        },
        "id": "mwV-oMeshvOu"
      },
      "source": [
        "x_train,x_test, y_train, y_test = train_test_split(x, y, test_size = 0.2, random_state = 1)\n",
        "x_train,x_val, y_train, y_val = train_test_split(x_train, y_train, test_size = 0.3125, random_state = 1)"
      ],
      "execution_count": null,
      "outputs": []
    },
    {
      "cell_type": "markdown",
      "metadata": {
        "deletable": false,
        "editable": false,
        "nbgrader": {
          "cell_type": "markdown",
          "checksum": "c9b5ffa094240411cb43919a003ba914",
          "grade": false,
          "grade_id": "cell-b9088197f0ab661c",
          "locked": true,
          "schema_version": 3,
          "solution": false
        },
        "id": "yESkILJfhvOu"
      },
      "source": [
        "## 4. Training"
      ]
    },
    {
      "cell_type": "markdown",
      "metadata": {
        "deletable": false,
        "editable": false,
        "nbgrader": {
          "cell_type": "markdown",
          "checksum": "37db0968c390e269c2670d7f88e8d403",
          "grade": false,
          "grade_id": "cell-1c4e4c6b7186c418",
          "locked": true,
          "schema_version": 3,
          "solution": false
        },
        "id": "arN_d8E3hvOv"
      },
      "source": [
        "The fourth step is where you will choose the architecture of your network (number of hidden layers, activation functions, etc.), and train it. \n",
        "\n"
      ]
    },
    {
      "cell_type": "code",
      "metadata": {
        "deletable": false,
        "nbgrader": {
          "cell_type": "code",
          "checksum": "2dee567112649e4b688372cbabe29252",
          "grade": true,
          "grade_id": "cell-dff32f0d1dd91a72",
          "locked": false,
          "points": 0,
          "schema_version": 3,
          "solution": true,
          "task": false
        },
        "id": "vg0peqHShvOv"
      },
      "source": [
        "import torch\n",
        "from torch.utils.data import TensorDataset\n",
        "from torch.utils.data import DataLoader\n",
        "from torch import nn\n",
        "import torch.nn.functional as F\n",
        "\n",
        "torch_x = torch.tensor(x_train, dtype=torch.float32)\n",
        "torch_y = torch.tensor(y_train, dtype=torch.int64)\n",
        "\n",
        "torch_x_val = torch.tensor(x_val, dtype = torch.float32)\n",
        "torch_y_val = torch.tensor(y_val, dtype = torch.int64)\n",
        "\n",
        "train_dataset = TensorDataset(torch_x, torch_y)\n",
        "train_dataloader = DataLoader(train_dataset,batch_size = len(x))\n",
        "\n",
        "val_dataset = TensorDataset(torch_x_val, torch_y_val)\n",
        "val_dataloader = DataLoader(val_dataset, batch_size = len(x))"
      ],
      "execution_count": null,
      "outputs": []
    },
    {
      "cell_type": "markdown",
      "metadata": {
        "deletable": false,
        "editable": false,
        "nbgrader": {
          "cell_type": "markdown",
          "checksum": "4e56a39b734fb1a6785dc7d5ef30dc51",
          "grade": false,
          "grade_id": "cell-d91e1230c6b9225d",
          "locked": true,
          "schema_version": 3,
          "solution": false
        },
        "id": "t8Vro8vhhvOv"
      },
      "source": [
        "Train the network."
      ]
    },
    {
      "cell_type": "code",
      "metadata": {
        "deletable": false,
        "nbgrader": {
          "cell_type": "code",
          "checksum": "4e418b4c1971dc704387808b8c1a403c",
          "grade": true,
          "grade_id": "cell-711ca3d58ad725b4",
          "locked": false,
          "points": 0,
          "schema_version": 3,
          "solution": true
        },
        "id": "IBoVFgiuhvOv"
      },
      "source": [
        "class ClassifierNetwork(nn.Module):\n",
        "    def __init__(self):\n",
        "        super().__init__()\n",
        "        self.layer_1 = nn.Linear(2, 5)\n",
        "        self.layer_2 = nn.Linear(5, 4)\n",
        "        self.layer_out = nn.Linear(4, 3)\n",
        "        \n",
        "    def forward(self, x):\n",
        "        x = F.relu(self.layer_1(x))\n",
        "        x = F.relu(self.layer_2(x))\n",
        "        x = self.layer_out(x)\n",
        "        return x\n",
        "\n",
        "model = ClassifierNetwork()\n",
        "loss_fn = nn.CrossEntropyLoss()"
      ],
      "execution_count": null,
      "outputs": []
    },
    {
      "cell_type": "code",
      "metadata": {
        "id": "m30JahOPhvOv",
        "outputId": "f504208c-87d3-4d2f-aaf1-9191a29b095b"
      },
      "source": [
        "from torch import optim\n",
        "optimizer = optim.Adam(model.parameters(), lr=0.001)\n",
        "\n",
        "\n",
        "def evaluate_model(val_dataloader, model, loss_fn):\n",
        "    losses = []\n",
        "    n_correct = 0\n",
        "    with torch.no_grad():\n",
        "        for b_x, b_y in val_dataloader:\n",
        "            pred = model(b_x)\n",
        "            loss = loss_fn(pred, b_y)\n",
        "            losses.append(loss.item())\n",
        "            \n",
        "            hard_preds = pred.argmax(dim=1)\n",
        "            n_correct += torch.sum(pred.argmax(dim=1) == b_y).item()\n",
        "        val_accuracy = n_correct/len(val_dataset)\n",
        "        val_avg_loss = sum(losses)/len(losses)    \n",
        "    \n",
        "    return val_accuracy, val_avg_loss\n",
        "\n",
        "for epoch in range(100):\n",
        "    losses = []\n",
        "    n_correct = 0\n",
        "    for b_x, b_y in train_dataloader:\n",
        "        \n",
        "        # Compute predictions and losses\n",
        "        pred = model(b_x)\n",
        "        loss = loss_fn(pred, b_y)\n",
        "        losses.append(loss.item())\n",
        "        \n",
        "        # Count number of correct predictions\n",
        "        hard_preds = pred.argmax(dim=1)\n",
        "        n_correct += torch.sum(pred.argmax(dim=1) == b_y).item()\n",
        "\n",
        "        # Backpropagate\n",
        "        loss.backward()\n",
        "        optimizer.step()\n",
        "        optimizer.zero_grad()    \n",
        "        \n",
        "    # Compute accuracy and loss in the entire training set\n",
        "    train_accuracy = n_correct/len(train_dataset)\n",
        "    train_avg_loss = sum(losses)/len(losses)    \n",
        "        \n",
        "    # Compute accuracy and loss in the entire validation set\n",
        "    val_accuracy, val_avg_loss = evaluate_model(val_dataloader, model, loss_fn)\n",
        "        \n",
        "    # Display metrics\n",
        "    display_str = 'Epoch {} '\n",
        "    display_str += '\\tLoss: {:.3f} '\n",
        "    display_str += '\\tLoss (val): {:.3f}'\n",
        "    display_str += '\\tAccuracy: {:.2f} '\n",
        "    display_str += '\\tAccuracy (val): {:.2f}'\n",
        "    print(display_str.format(epoch, train_avg_loss, val_avg_loss, train_accuracy, val_accuracy))"
      ],
      "execution_count": null,
      "outputs": [
        {
          "output_type": "stream",
          "text": [
            "Epoch 0 \tLoss: 2.100 \tLoss (val): 2.069\tAccuracy: 0.28 \tAccuracy (val): 0.31\n",
            "Epoch 1 \tLoss: 2.067 \tLoss (val): 2.038\tAccuracy: 0.28 \tAccuracy (val): 0.31\n",
            "Epoch 2 \tLoss: 2.035 \tLoss (val): 2.007\tAccuracy: 0.28 \tAccuracy (val): 0.32\n",
            "Epoch 3 \tLoss: 2.003 \tLoss (val): 1.977\tAccuracy: 0.29 \tAccuracy (val): 0.32\n",
            "Epoch 4 \tLoss: 1.971 \tLoss (val): 1.948\tAccuracy: 0.29 \tAccuracy (val): 0.33\n",
            "Epoch 5 \tLoss: 1.941 \tLoss (val): 1.919\tAccuracy: 0.29 \tAccuracy (val): 0.33\n",
            "Epoch 6 \tLoss: 1.911 \tLoss (val): 1.891\tAccuracy: 0.29 \tAccuracy (val): 0.33\n",
            "Epoch 7 \tLoss: 1.881 \tLoss (val): 1.864\tAccuracy: 0.29 \tAccuracy (val): 0.33\n",
            "Epoch 8 \tLoss: 1.853 \tLoss (val): 1.837\tAccuracy: 0.30 \tAccuracy (val): 0.33\n",
            "Epoch 9 \tLoss: 1.825 \tLoss (val): 1.811\tAccuracy: 0.30 \tAccuracy (val): 0.33\n",
            "Epoch 10 \tLoss: 1.797 \tLoss (val): 1.786\tAccuracy: 0.30 \tAccuracy (val): 0.33\n",
            "Epoch 11 \tLoss: 1.771 \tLoss (val): 1.761\tAccuracy: 0.30 \tAccuracy (val): 0.33\n",
            "Epoch 12 \tLoss: 1.745 \tLoss (val): 1.737\tAccuracy: 0.30 \tAccuracy (val): 0.34\n",
            "Epoch 13 \tLoss: 1.720 \tLoss (val): 1.714\tAccuracy: 0.30 \tAccuracy (val): 0.34\n",
            "Epoch 14 \tLoss: 1.696 \tLoss (val): 1.692\tAccuracy: 0.30 \tAccuracy (val): 0.34\n",
            "Epoch 15 \tLoss: 1.671 \tLoss (val): 1.670\tAccuracy: 0.30 \tAccuracy (val): 0.36\n",
            "Epoch 16 \tLoss: 1.648 \tLoss (val): 1.649\tAccuracy: 0.33 \tAccuracy (val): 0.38\n",
            "Epoch 17 \tLoss: 1.625 \tLoss (val): 1.628\tAccuracy: 0.35 \tAccuracy (val): 0.38\n",
            "Epoch 18 \tLoss: 1.603 \tLoss (val): 1.609\tAccuracy: 0.36 \tAccuracy (val): 0.40\n",
            "Epoch 19 \tLoss: 1.582 \tLoss (val): 1.590\tAccuracy: 0.38 \tAccuracy (val): 0.41\n",
            "Epoch 20 \tLoss: 1.561 \tLoss (val): 1.571\tAccuracy: 0.39 \tAccuracy (val): 0.43\n",
            "Epoch 21 \tLoss: 1.541 \tLoss (val): 1.553\tAccuracy: 0.41 \tAccuracy (val): 0.45\n",
            "Epoch 22 \tLoss: 1.522 \tLoss (val): 1.536\tAccuracy: 0.43 \tAccuracy (val): 0.50\n",
            "Epoch 23 \tLoss: 1.503 \tLoss (val): 1.519\tAccuracy: 0.49 \tAccuracy (val): 0.52\n",
            "Epoch 24 \tLoss: 1.485 \tLoss (val): 1.503\tAccuracy: 0.52 \tAccuracy (val): 0.52\n",
            "Epoch 25 \tLoss: 1.467 \tLoss (val): 1.487\tAccuracy: 0.52 \tAccuracy (val): 0.53\n",
            "Epoch 26 \tLoss: 1.449 \tLoss (val): 1.471\tAccuracy: 0.53 \tAccuracy (val): 0.53\n",
            "Epoch 27 \tLoss: 1.432 \tLoss (val): 1.456\tAccuracy: 0.53 \tAccuracy (val): 0.53\n",
            "Epoch 28 \tLoss: 1.415 \tLoss (val): 1.441\tAccuracy: 0.53 \tAccuracy (val): 0.53\n",
            "Epoch 29 \tLoss: 1.399 \tLoss (val): 1.426\tAccuracy: 0.53 \tAccuracy (val): 0.54\n",
            "Epoch 30 \tLoss: 1.382 \tLoss (val): 1.411\tAccuracy: 0.53 \tAccuracy (val): 0.54\n",
            "Epoch 31 \tLoss: 1.367 \tLoss (val): 1.397\tAccuracy: 0.53 \tAccuracy (val): 0.54\n",
            "Epoch 32 \tLoss: 1.351 \tLoss (val): 1.384\tAccuracy: 0.53 \tAccuracy (val): 0.54\n",
            "Epoch 33 \tLoss: 1.337 \tLoss (val): 1.370\tAccuracy: 0.53 \tAccuracy (val): 0.54\n",
            "Epoch 34 \tLoss: 1.322 \tLoss (val): 1.358\tAccuracy: 0.53 \tAccuracy (val): 0.54\n",
            "Epoch 35 \tLoss: 1.308 \tLoss (val): 1.345\tAccuracy: 0.53 \tAccuracy (val): 0.54\n",
            "Epoch 36 \tLoss: 1.294 \tLoss (val): 1.333\tAccuracy: 0.53 \tAccuracy (val): 0.54\n",
            "Epoch 37 \tLoss: 1.281 \tLoss (val): 1.321\tAccuracy: 0.53 \tAccuracy (val): 0.54\n",
            "Epoch 38 \tLoss: 1.268 \tLoss (val): 1.310\tAccuracy: 0.53 \tAccuracy (val): 0.54\n",
            "Epoch 39 \tLoss: 1.256 \tLoss (val): 1.299\tAccuracy: 0.53 \tAccuracy (val): 0.55\n",
            "Epoch 40 \tLoss: 1.244 \tLoss (val): 1.288\tAccuracy: 0.53 \tAccuracy (val): 0.54\n",
            "Epoch 41 \tLoss: 1.232 \tLoss (val): 1.277\tAccuracy: 0.53 \tAccuracy (val): 0.54\n",
            "Epoch 42 \tLoss: 1.220 \tLoss (val): 1.266\tAccuracy: 0.53 \tAccuracy (val): 0.54\n",
            "Epoch 43 \tLoss: 1.209 \tLoss (val): 1.256\tAccuracy: 0.53 \tAccuracy (val): 0.54\n",
            "Epoch 44 \tLoss: 1.198 \tLoss (val): 1.246\tAccuracy: 0.53 \tAccuracy (val): 0.54\n",
            "Epoch 45 \tLoss: 1.187 \tLoss (val): 1.236\tAccuracy: 0.53 \tAccuracy (val): 0.54\n",
            "Epoch 46 \tLoss: 1.176 \tLoss (val): 1.227\tAccuracy: 0.53 \tAccuracy (val): 0.54\n",
            "Epoch 47 \tLoss: 1.166 \tLoss (val): 1.217\tAccuracy: 0.53 \tAccuracy (val): 0.54\n",
            "Epoch 48 \tLoss: 1.156 \tLoss (val): 1.208\tAccuracy: 0.53 \tAccuracy (val): 0.54\n",
            "Epoch 49 \tLoss: 1.146 \tLoss (val): 1.199\tAccuracy: 0.53 \tAccuracy (val): 0.54\n",
            "Epoch 50 \tLoss: 1.137 \tLoss (val): 1.190\tAccuracy: 0.53 \tAccuracy (val): 0.54\n",
            "Epoch 51 \tLoss: 1.128 \tLoss (val): 1.182\tAccuracy: 0.53 \tAccuracy (val): 0.54\n",
            "Epoch 52 \tLoss: 1.118 \tLoss (val): 1.173\tAccuracy: 0.53 \tAccuracy (val): 0.54\n",
            "Epoch 53 \tLoss: 1.110 \tLoss (val): 1.165\tAccuracy: 0.53 \tAccuracy (val): 0.54\n",
            "Epoch 54 \tLoss: 1.101 \tLoss (val): 1.157\tAccuracy: 0.53 \tAccuracy (val): 0.54\n",
            "Epoch 55 \tLoss: 1.092 \tLoss (val): 1.149\tAccuracy: 0.53 \tAccuracy (val): 0.54\n",
            "Epoch 56 \tLoss: 1.084 \tLoss (val): 1.142\tAccuracy: 0.53 \tAccuracy (val): 0.54\n",
            "Epoch 57 \tLoss: 1.076 \tLoss (val): 1.135\tAccuracy: 0.53 \tAccuracy (val): 0.54\n",
            "Epoch 58 \tLoss: 1.069 \tLoss (val): 1.128\tAccuracy: 0.53 \tAccuracy (val): 0.54\n",
            "Epoch 59 \tLoss: 1.062 \tLoss (val): 1.122\tAccuracy: 0.53 \tAccuracy (val): 0.53\n",
            "Epoch 60 \tLoss: 1.055 \tLoss (val): 1.117\tAccuracy: 0.53 \tAccuracy (val): 0.53\n",
            "Epoch 61 \tLoss: 1.048 \tLoss (val): 1.111\tAccuracy: 0.53 \tAccuracy (val): 0.53\n",
            "Epoch 62 \tLoss: 1.042 \tLoss (val): 1.107\tAccuracy: 0.53 \tAccuracy (val): 0.53\n",
            "Epoch 63 \tLoss: 1.037 \tLoss (val): 1.102\tAccuracy: 0.54 \tAccuracy (val): 0.53\n",
            "Epoch 64 \tLoss: 1.032 \tLoss (val): 1.098\tAccuracy: 0.54 \tAccuracy (val): 0.53\n",
            "Epoch 65 \tLoss: 1.027 \tLoss (val): 1.095\tAccuracy: 0.54 \tAccuracy (val): 0.53\n",
            "Epoch 66 \tLoss: 1.023 \tLoss (val): 1.091\tAccuracy: 0.54 \tAccuracy (val): 0.53\n",
            "Epoch 67 \tLoss: 1.019 \tLoss (val): 1.088\tAccuracy: 0.53 \tAccuracy (val): 0.53\n",
            "Epoch 68 \tLoss: 1.015 \tLoss (val): 1.085\tAccuracy: 0.53 \tAccuracy (val): 0.54\n",
            "Epoch 69 \tLoss: 1.011 \tLoss (val): 1.082\tAccuracy: 0.54 \tAccuracy (val): 0.54\n",
            "Epoch 70 \tLoss: 1.007 \tLoss (val): 1.079\tAccuracy: 0.55 \tAccuracy (val): 0.55\n",
            "Epoch 71 \tLoss: 1.004 \tLoss (val): 1.076\tAccuracy: 0.55 \tAccuracy (val): 0.56\n",
            "Epoch 72 \tLoss: 1.000 \tLoss (val): 1.073\tAccuracy: 0.56 \tAccuracy (val): 0.56\n",
            "Epoch 73 \tLoss: 0.996 \tLoss (val): 1.070\tAccuracy: 0.56 \tAccuracy (val): 0.56\n",
            "Epoch 74 \tLoss: 0.992 \tLoss (val): 1.066\tAccuracy: 0.56 \tAccuracy (val): 0.56\n",
            "Epoch 75 \tLoss: 0.989 \tLoss (val): 1.063\tAccuracy: 0.56 \tAccuracy (val): 0.56\n",
            "Epoch 76 \tLoss: 0.985 \tLoss (val): 1.060\tAccuracy: 0.57 \tAccuracy (val): 0.57\n",
            "Epoch 77 \tLoss: 0.981 \tLoss (val): 1.056\tAccuracy: 0.57 \tAccuracy (val): 0.56\n",
            "Epoch 78 \tLoss: 0.977 \tLoss (val): 1.053\tAccuracy: 0.57 \tAccuracy (val): 0.56\n",
            "Epoch 79 \tLoss: 0.974 \tLoss (val): 1.049\tAccuracy: 0.57 \tAccuracy (val): 0.57\n",
            "Epoch 80 \tLoss: 0.970 \tLoss (val): 1.045\tAccuracy: 0.58 \tAccuracy (val): 0.57\n",
            "Epoch 81 \tLoss: 0.966 \tLoss (val): 1.041\tAccuracy: 0.59 \tAccuracy (val): 0.57\n",
            "Epoch 82 \tLoss: 0.962 \tLoss (val): 1.037\tAccuracy: 0.59 \tAccuracy (val): 0.57\n",
            "Epoch 83 \tLoss: 0.958 \tLoss (val): 1.033\tAccuracy: 0.60 \tAccuracy (val): 0.57\n",
            "Epoch 84 \tLoss: 0.954 \tLoss (val): 1.029\tAccuracy: 0.62 \tAccuracy (val): 0.58\n",
            "Epoch 85 \tLoss: 0.950 \tLoss (val): 1.024\tAccuracy: 0.62 \tAccuracy (val): 0.59\n",
            "Epoch 86 \tLoss: 0.946 \tLoss (val): 1.020\tAccuracy: 0.62 \tAccuracy (val): 0.59\n",
            "Epoch 87 \tLoss: 0.942 \tLoss (val): 1.016\tAccuracy: 0.62 \tAccuracy (val): 0.59\n",
            "Epoch 88 \tLoss: 0.938 \tLoss (val): 1.011\tAccuracy: 0.63 \tAccuracy (val): 0.60\n",
            "Epoch 89 \tLoss: 0.934 \tLoss (val): 1.007\tAccuracy: 0.63 \tAccuracy (val): 0.60\n",
            "Epoch 90 \tLoss: 0.930 \tLoss (val): 1.003\tAccuracy: 0.63 \tAccuracy (val): 0.58\n",
            "Epoch 91 \tLoss: 0.926 \tLoss (val): 0.998\tAccuracy: 0.61 \tAccuracy (val): 0.59\n",
            "Epoch 92 \tLoss: 0.922 \tLoss (val): 0.994\tAccuracy: 0.62 \tAccuracy (val): 0.60\n",
            "Epoch 93 \tLoss: 0.918 \tLoss (val): 0.989\tAccuracy: 0.63 \tAccuracy (val): 0.59\n",
            "Epoch 94 \tLoss: 0.915 \tLoss (val): 0.985\tAccuracy: 0.63 \tAccuracy (val): 0.61\n",
            "Epoch 95 \tLoss: 0.911 \tLoss (val): 0.980\tAccuracy: 0.65 \tAccuracy (val): 0.61\n",
            "Epoch 96 \tLoss: 0.907 \tLoss (val): 0.976\tAccuracy: 0.65 \tAccuracy (val): 0.61\n",
            "Epoch 97 \tLoss: 0.904 \tLoss (val): 0.972\tAccuracy: 0.65 \tAccuracy (val): 0.61\n",
            "Epoch 98 \tLoss: 0.900 \tLoss (val): 0.968\tAccuracy: 0.66 \tAccuracy (val): 0.61\n",
            "Epoch 99 \tLoss: 0.897 \tLoss (val): 0.964\tAccuracy: 0.65 \tAccuracy (val): 0.62\n"
          ],
          "name": "stdout"
        }
      ]
    },
    {
      "cell_type": "markdown",
      "metadata": {
        "deletable": false,
        "editable": false,
        "nbgrader": {
          "cell_type": "markdown",
          "checksum": "08f25d921ab7040f778a202f5a69b1a7",
          "grade": false,
          "grade_id": "cell-effc356fff18a4b5",
          "locked": true,
          "schema_version": 3,
          "solution": false
        },
        "id": "suiovRUqhvOy"
      },
      "source": [
        "## 5. Evaluation"
      ]
    },
    {
      "cell_type": "markdown",
      "metadata": {
        "deletable": false,
        "editable": false,
        "nbgrader": {
          "cell_type": "markdown",
          "checksum": "79420c8cb4af750ed05be42a2c4d528b",
          "grade": false,
          "grade_id": "cell-3f4ab762e2890554",
          "locked": true,
          "schema_version": 3,
          "solution": false
        },
        "id": "akjQUSg8hvOy"
      },
      "source": [
        "Compute the accuracy on the test set."
      ]
    },
    {
      "cell_type": "code",
      "metadata": {
        "deletable": false,
        "nbgrader": {
          "cell_type": "code",
          "checksum": "5251eed9c71815693e915582fcac7643",
          "grade": true,
          "grade_id": "cell-64d1008aafb3e518",
          "locked": false,
          "points": 0,
          "schema_version": 3,
          "solution": true,
          "task": false
        },
        "id": "G6oklmqZhvOy",
        "outputId": "81c27dc2-7bef-4f7c-c140-cbead7d24087"
      },
      "source": [
        "test_samples = torch.tensor(x_test, dtype=torch.float32)\n",
        "test_labels = torch.tensor(y_test, dtype=torch.int64)\n",
        "\n",
        "prediction = model(test_samples).argmax(dim=1)\n",
        "accuracy = (prediction == test_labels).sum().item()/len(prediction)\n",
        "print(\"Accuracy: %.2f\" %accuracy)"
      ],
      "execution_count": null,
      "outputs": [
        {
          "output_type": "stream",
          "text": [
            "Accuracy: 0.60\n"
          ],
          "name": "stdout"
        }
      ]
    },
    {
      "cell_type": "markdown",
      "metadata": {
        "deletable": false,
        "editable": false,
        "nbgrader": {
          "cell_type": "markdown",
          "checksum": "56aa12a95fe3c466649cff3f8a0097de",
          "grade": false,
          "grade_id": "cell-8232dd159f8d4887",
          "locked": true,
          "schema_version": 3,
          "solution": false
        },
        "id": "TbMn4q1dhvOz"
      },
      "source": [
        "Compute the confusion matrix of your predictions on the test set."
      ]
    },
    {
      "cell_type": "code",
      "metadata": {
        "deletable": false,
        "nbgrader": {
          "cell_type": "code",
          "checksum": "fabe3566394c7037a10d86e5b5256d8d",
          "grade": true,
          "grade_id": "cell-9475a5163acc3249",
          "locked": false,
          "points": 0,
          "schema_version": 3,
          "solution": true,
          "task": false
        },
        "id": "sHciKctJhvOz",
        "outputId": "968ecf4d-508d-45bf-99e9-65331688e9bf"
      },
      "source": [
        "from sklearn.metrics import confusion_matrix\n",
        "confusion_matrix(test_labels, prediction)\n"
      ],
      "execution_count": null,
      "outputs": [
        {
          "output_type": "execute_result",
          "data": {
            "text/plain": [
              "array([[82, 32, 23],\n",
              "       [18, 86, 37],\n",
              "       [55,  0, 84]], dtype=int64)"
            ]
          },
          "metadata": {
            "tags": []
          },
          "execution_count": 106
        }
      ]
    },
    {
      "cell_type": "code",
      "metadata": {
        "deletable": false,
        "nbgrader": {
          "cell_type": "code",
          "checksum": "298813aa672049ece0fadc7693b59e11",
          "grade": true,
          "grade_id": "cell-2cfbecf57fd1043f",
          "locked": false,
          "points": 0,
          "schema_version": 3,
          "solution": true,
          "task": false
        },
        "id": "M-Ug2B5FhvO0",
        "outputId": "29e5daa1-237e-4fcc-93b0-e7b966ad8b6f"
      },
      "source": [
        "rand_long = np.random.uniform(-90,90,size=(2000,1))\n",
        "rand_lat = np.random.uniform(-180,180,size=(2000,1))\n",
        "\n",
        "new_val = np.concatenate((rand_lat,rand_long),axis =1)\n",
        "new_x_train = np.concatenate((x_train,new_val))\n",
        "\n",
        "train_samples = torch.tensor(new_x_train, dtype=torch.float32)\n",
        "prediction = model(train_samples).argmax(dim=1)\n",
        "prediction_val = (prediction.numpy()).tolist()\n",
        "\n",
        "new_df = pd.DataFrame(data = new_x_train, columns = ['Latitude','Longitude'])\n",
        "new_df['Class'] = prediction_val\n",
        "\n",
        "\n",
        "lat1 = new_df[new_df['Class']==0]['Latitude'].tolist()\n",
        "long1 = new_df[new_df['Class']==0]['Longitude'].tolist()\n",
        "lat2 = new_df[new_df['Class']==1]['Latitude'].tolist()\n",
        "long2 = new_df[new_df['Class']==1]['Longitude'].tolist()\n",
        "lat3 = new_df[new_df['Class']==2]['Latitude'].tolist()\n",
        "long3 = new_df[new_df['Class']==2]['Longitude'].tolist()\n",
        "\n",
        "plt.figure(figsize = (15,15))\n",
        "\n",
        "dig = plt.scatter(lat1,long1,marker = 'x', c = 'red')\n",
        "seel = plt.scatter(lat2,long2,marker = '.', c = 'green')\n",
        "tauros = plt.scatter(lat3,long3,marker = 'v', c = 'blue')\n",
        "plt.xlabel('Latitude')\n",
        "plt.ylabel('Longitude')\n",
        "plt.legend((dig,seel,tauros),('Diglett','Seel','Tauros'),title = 'Pokemons')\n",
        "plt.show()"
      ],
      "execution_count": null,
      "outputs": [
        {
          "output_type": "display_data",
          "data": {
            "image/png": "[encoded data removed]",
            "text/plain": [
              "<Figure size 1080x1080 with 1 Axes>"
            ]
          },
          "metadata": {
            "tags": [],
            "needs_background": "light"
          }
        }
      ]
    },
    {
      "cell_type": "markdown",
      "metadata": {
        "deletable": false,
        "editable": false,
        "nbgrader": {
          "cell_type": "markdown",
          "checksum": "99a1266a62880be4cf1f724ed704ddb2",
          "grade": false,
          "grade_id": "cell-b731aebed710ae07",
          "locked": true,
          "schema_version": 3,
          "solution": false
        },
        "id": "P5708kChhvO0"
      },
      "source": [
        "## 6. Exploration"
      ]
    },
    {
      "cell_type": "code",
      "metadata": {
        "deletable": false,
        "nbgrader": {
          "cell_type": "code",
          "checksum": "6701fb6bd1284791b9c065777eaaebae",
          "grade": true,
          "grade_id": "cell-b18deaa33c46ec92",
          "locked": false,
          "points": 0,
          "schema_version": 3,
          "solution": true
        },
        "id": "8o-ODORGhvO1",
        "outputId": "0ec69e63-d8a6-4dcf-80ff-8f4d8b01cf0b"
      },
      "source": [
        "class_id = [50,86,128]\n",
        "pokemon = ['Diglett','Seel','Tauros']\n",
        "val = ['pressure','temperature']\n",
        "for i,k in zip(class_id,pokemon):\n",
        "    for j in val:\n",
        "        pokemon_dataset = dataframe.loc[dataframe['class']==i]\n",
        "        pressure_hist = pokemon_dataset[j].tolist()\n",
        "        plt.hist(pressure_hist, bins= 20)\n",
        "        plt.xlabel(j)\n",
        "        plt.ylabel('No of {}'.format(k))\n",
        "        plt.show()"
      ],
      "execution_count": null,
      "outputs": [
        {
          "output_type": "display_data",
          "data": {
            "image/png": "[encoded data removed]",
            "text/plain": [
              "<Figure size 432x288 with 1 Axes>"
            ]
          },
          "metadata": {
            "tags": [],
            "needs_background": "light"
          }
        },
        {
          "output_type": "display_data",
          "data": {
            "image/png": "[encoded data removed]",
            "text/plain": [
              "<Figure size 432x288 with 1 Axes>"
            ]
          },
          "metadata": {
            "tags": [],
            "needs_background": "light"
          }
        },
        {
          "output_type": "display_data",
          "data": {
            "image/png": "[encoded data removed]",
            "text/plain": [
              "<Figure size 432x288 with 1 Axes>"
            ]
          },
          "metadata": {
            "tags": [],
            "needs_background": "light"
          }
        },
        {
          "output_type": "display_data",
          "data": {
            "image/png": "[encoded data removed]",
            "text/plain": [
              "<Figure size 432x288 with 1 Axes>"
            ]
          },
          "metadata": {
            "tags": [],
            "needs_background": "light"
          }
        },
        {
          "output_type": "display_data",
          "data": {
            "image/png": "[encoded data removed]",
            "text/plain": [
              "<Figure size 432x288 with 1 Axes>"
            ]
          },
          "metadata": {
            "tags": [],
            "needs_background": "light"
          }
        },
        {
          "output_type": "display_data",
          "data": {
            "image/png": "[encoded data removed]",
            "text/plain": [
              "<Figure size 432x288 with 1 Axes>"
            ]
          },
          "metadata": {
            "tags": [],
            "needs_background": "light"
          }
        }
      ]
    }
  ]
}